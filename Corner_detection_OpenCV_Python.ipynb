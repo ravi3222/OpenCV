{
 "cells": [
  {
   "cell_type": "markdown",
   "metadata": {},
   "source": [
    "# Corner Detection\n",
    "\n",
    "When we look at something, our brain automatically creates a footprint based\n",
    "on the interesting aspects of that image. \n",
    "When we build object recognition systems, we need to detect these interesting regions to\n",
    "create a signature for the image. \n",
    "\n",
    "Since we know that the corners are interesting, let's see how we can detect them. In computer vision, there is a popular corner detection technique called the **Harris Corner Detector**.\n",
    "\n",
    "- We basically construct a 2x2 matrix based on partial derivatives of the grayscale image, and then analyze the eigenvalues obtained.\n",
    "\n",
    "\n",
    "- Eigenvalues are a special set of scalars associated with a linear system of equations that provide segmented information about the image by a cluster of pixels that belong together. In this case, we use them to detect the corners. This is actually an oversimplification of the actual algorithm, but it covers the gist.\n",
    "\n",
    "A corner point is a point where both the eigenvalues would have large values.\n"
   ]
  },
  {
   "cell_type": "code",
   "execution_count": 2,
   "metadata": {},
   "outputs": [
    {
     "data": {
      "text/plain": [
       "-1"
      ]
     },
     "execution_count": 2,
     "metadata": {},
     "output_type": "execute_result"
    }
   ],
   "source": [
    "import cv2\n",
    "import numpy as np\n",
    "img = cv2.imread('box.png')\n",
    "gray = cv2.cvtColor(img,cv2.COLOR_BGR2GRAY)\n",
    "gray = np.float32(gray)\n",
    "\n",
    "# To detect only sharp corners\n",
    "dst = cv2.cornerHarris(gray, blockSize=4, ksize=5, k=0.04)\n",
    "# Result is dilated for marking the corners\n",
    "dst = cv2.dilate(dst, None)\n",
    "# Threshold for an optimal value, it may vary depending on the image\n",
    "img[dst > 0.01*dst.max()] = [0,0,0]\n",
    "cv2.imshow('Harris Sharp Corners',img)\n",
    "\n",
    "# to detect soft corners\n",
    "dst = cv2.cornerHarris(gray, blockSize=14, ksize=5, k=0.04)\n",
    "dst = cv2.dilate(dst, None)\n",
    "img[dst > 0.01*dst.max()] = [0,0,0]\n",
    "cv2.imshow('Harris Soft Corners',img)\n",
    "cv2.waitKey()"
   ]
  },
  {
   "cell_type": "code",
   "execution_count": null,
   "metadata": {},
   "outputs": [],
   "source": []
  }
 ],
 "metadata": {
  "kernelspec": {
   "display_name": "Python 3",
   "language": "python",
   "name": "python3"
  },
  "language_info": {
   "codemirror_mode": {
    "name": "ipython",
    "version": 3
   },
   "file_extension": ".py",
   "mimetype": "text/x-python",
   "name": "python",
   "nbconvert_exporter": "python",
   "pygments_lexer": "ipython3",
   "version": "3.6.0"
  }
 },
 "nbformat": 4,
 "nbformat_minor": 2
}

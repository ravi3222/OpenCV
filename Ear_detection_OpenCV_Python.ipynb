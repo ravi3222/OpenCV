{
 "cells": [
  {
   "cell_type": "markdown",
   "metadata": {},
   "source": []
  },
  {
   "cell_type": "code",
   "execution_count": 1,
   "metadata": {},
   "outputs": [],
   "source": [
    "import cv2\n",
    "import numpy as np\n",
    "left_ear_cascade = cv2.CascadeClassifier('haarcascade_mcs_leftear.xml')\n",
    "right_ear_cascade = cv2.CascadeClassifier('haarcascade_mcs_rightear.xml')\n",
    "if left_ear_cascade.empty():\n",
    "    raise IOError('Unable to load the left ear cascade classifier xml file')\n",
    "if right_ear_cascade.empty():\n",
    "    raise IOError('Unable to load the right ear cascade classifier xml file')\n",
    "cap = cv2.VideoCapture(0)\n",
    "scaling_factor = 0.5\n",
    "while True:\n",
    "    ret, frame = cap.read()\n",
    "    frame = cv2.resize(frame, None, fx=scaling_factor, fy=scaling_factor,interpolation=cv2.INTER_AREA)\n",
    "    gray = cv2.cvtColor(frame, cv2.COLOR_BGR2GRAY)\n",
    "    left_ear = left_ear_cascade.detectMultiScale(gray, scaleFactor=1.3,minNeighbors=3)\n",
    "    right_ear = right_ear_cascade.detectMultiScale(gray, scaleFactor=1.3,minNeighbors=3)\n",
    "    for (x,y,w,h) in left_ear:\n",
    "        cv2.rectangle(frame, (x,y), (x+w,y+h), (0,255,0), 3)\n",
    "        for (x,y,w,h) in right_ear:\n",
    "            cv2.rectangle(frame, (x,y), (x+w,y+h), (255,0,0), 3)\n",
    "\n",
    "    cv2.imshow('Ear Detector', frame)\n",
    "    c = cv2.waitKey(1)\n",
    "    if c == 27:\n",
    "        break\n",
    "cap.release()\n",
    "cv2.destroyAllWindows()"
   ]
  },
  {
   "cell_type": "code",
   "execution_count": null,
   "metadata": {},
   "outputs": [],
   "source": []
  }
 ],
 "metadata": {
  "kernelspec": {
   "display_name": "Python 3",
   "language": "python",
   "name": "python3"
  },
  "language_info": {
   "codemirror_mode": {
    "name": "ipython",
    "version": 3
   },
   "file_extension": ".py",
   "mimetype": "text/x-python",
   "name": "python",
   "nbconvert_exporter": "python",
   "pygments_lexer": "ipython3",
   "version": "3.6.0"
  }
 },
 "nbformat": 4,
 "nbformat_minor": 2
}

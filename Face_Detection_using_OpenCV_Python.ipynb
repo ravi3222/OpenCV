{
 "cells": [
  {
   "cell_type": "markdown",
   "metadata": {},
   "source": [
    "## Face Detection using HaarCascade\n",
    "\n",
    "I are going to detect face in a live video stream. And used HaarCascade framework to detect face.\n",
    "- Used Haar features to build feature vectors. Haar features are simple summations and differences of patches across the image. Used this at multiple image sizes to make sure our system is scale invariant.\n",
    "\n",
    "- Once we extract these features, we pass it through a cascade of classifiers. It just check all the different rectangular sub-regions and keep discarding the ones that don't have faces in them. This way, we arrive at the final answer quickly to see if a given rectangle contains aface or not.\n"
   ]
  },
  {
   "cell_type": "code",
   "execution_count": null,
   "metadata": {},
   "outputs": [],
   "source": [
    "import cv2\n",
    "import numpy as np\n",
    "\n",
    "# Used CascadeClassifier to load XML file\n",
    "face_cascade =cv2.CascadeClassifier('haarcascade_frontalface_alt.xml')\n",
    "\n",
    "#Created VideoCapture object\n",
    "cap = cv2.VideoCapture(0)\n",
    "  \n",
    "scaling_factor = 0.5\n",
    "while True:\n",
    "    # ret is a Boolean value returned by the read function, and it indicates \n",
    "    # whether or not the frame was captured successfully\n",
    "    ret, frame = cap.read()\n",
    "    # Resize the captured image\n",
    "    frame = cv2.resize(frame, None, fx=scaling_factor,fy=scaling_factor, interpolation=cv2.INTER_AREA)\n",
    "    # detectMultiScale function to get the bounding boxes for all the faces in the current\n",
    "    #image\n",
    "    face_rects = face_cascade.detectMultiScale(frame, scaleFactor=1.3,minNeighbors=5)\n",
    "    \n",
    "    for (x,y,w,h) in face_rects:\n",
    "        cv2.rectangle(frame, (x,y), (x+w,y+h), (0,255,0), 3)\n",
    "        cv2.imshow('Face Detector', frame)\n",
    "        c = cv2.waitKey(1)\n",
    "        # ASCII value of Esc is 27 !. Used Esc to break the loop\n",
    "        if c == 27: \n",
    "            break\n",
    "\n",
    "#It gracefully frees the webcam so that another application can make use of it\n",
    "cap.release()\n",
    "cv2.destroyAllWindows()"
   ]
  },
  {
   "cell_type": "code",
   "execution_count": null,
   "metadata": {},
   "outputs": [],
   "source": []
  }
 ],
 "metadata": {
  "kernelspec": {
   "display_name": "Python 3",
   "language": "python",
   "name": "python3"
  },
  "language_info": {
   "codemirror_mode": {
    "name": "ipython",
    "version": 3
   },
   "file_extension": ".py",
   "mimetype": "text/x-python",
   "name": "python",
   "nbconvert_exporter": "python",
   "pygments_lexer": "ipython3",
   "version": "3.6.0"
  }
 },
 "nbformat": 4,
 "nbformat_minor": 2
}
